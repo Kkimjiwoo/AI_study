{
 "cells": [
  {
   "cell_type": "code",
   "execution_count": null,
   "metadata": {},
   "outputs": [],
   "source": [
    "# LLMChain과 ChatOpenAI\n",
    "\n",
    "# ChatOpenAI\n",
    "# >> openai의 gpt 모델을 호출하고 응답\n",
    "# >> 단순 - 단일 프롬프트에 대한 응답 생성에 사용\n",
    "\n",
    "# LLMChain\n",
    "# 언어 모델뿐만 아니라 프롬프트 템플릿과 기타 구성 요소들을 함께 사용 사용\n",
    "# 복잡한 프롬프트 체인을 구성하여 더 복잡한 응답 생성 과정을 처리git"
   ]
  },
  {
   "cell_type": "code",
   "execution_count": null,
   "metadata": {},
   "outputs": [
    {
     "name": "stdout",
     "output_type": "stream",
     "text": [
      "Requirement already satisfied: python-dotenv in c:\\users\\82108\\.conda\\envs\\jiwoo_01\\lib\\site-packages (1.0.1)Note: you may need to restart the kernel to use updated packages.\n",
      "\n"
     ]
    }
   ],
   "source": [
    "# 로컬에서 api key 사용할 때 # .env 파일 활성화\n",
    "pip install python-dotenv"
   ]
  },
  {
   "cell_type": "code",
   "execution_count": null,
   "metadata": {},
   "outputs": [
    {
     "name": "stdout",
     "output_type": "stream",
     "text": [
      "Requirement already satisfied: python-dotenv in c:\\users\\82108\\.conda\\envs\\jiwoo_01\\lib\\site-packages (1.0.1)\n",
      "Requirement already satisfied: openai in c:\\users\\82108\\.conda\\envs\\jiwoo_01\\lib\\site-packages (0.28.0)\n",
      "Requirement already satisfied: requests>=2.20 in c:\\users\\82108\\.conda\\envs\\jiwoo_01\\lib\\site-packages (from openai) (2.31.0)\n",
      "Requirement already satisfied: tqdm in c:\\users\\82108\\.conda\\envs\\jiwoo_01\\lib\\site-packages (from openai) (4.66.4)\n",
      "Requirement already satisfied: aiohttp in c:\\users\\82108\\.conda\\envs\\jiwoo_01\\lib\\site-packages (from openai) (3.9.5)\n",
      "Requirement already satisfied: charset-normalizer<4,>=2 in c:\\users\\82108\\.conda\\envs\\jiwoo_01\\lib\\site-packages (from requests>=2.20->openai) (2.0.4)\n",
      "Requirement already satisfied: idna<4,>=2.5 in c:\\users\\82108\\.conda\\envs\\jiwoo_01\\lib\\site-packages (from requests>=2.20->openai) (3.4)\n",
      "Requirement already satisfied: urllib3<3,>=1.21.1 in c:\\users\\82108\\.conda\\envs\\jiwoo_01\\lib\\site-packages (from requests>=2.20->openai) (2.1.0)\n",
      "Requirement already satisfied: certifi>=2017.4.17 in c:\\users\\82108\\.conda\\envs\\jiwoo_01\\lib\\site-packages (from requests>=2.20->openai) (2024.2.2)\n",
      "Requirement already satisfied: aiosignal>=1.1.2 in c:\\users\\82108\\.conda\\envs\\jiwoo_01\\lib\\site-packages (from aiohttp->openai) (1.3.1)\n",
      "Requirement already satisfied: attrs>=17.3.0 in c:\\users\\82108\\.conda\\envs\\jiwoo_01\\lib\\site-packages (from aiohttp->openai) (23.1.0)\n",
      "Requirement already satisfied: frozenlist>=1.1.1 in c:\\users\\82108\\.conda\\envs\\jiwoo_01\\lib\\site-packages (from aiohttp->openai) (1.4.1)\n",
      "Requirement already satisfied: multidict<7.0,>=4.5 in c:\\users\\82108\\.conda\\envs\\jiwoo_01\\lib\\site-packages (from aiohttp->openai) (6.0.5)\n",
      "Requirement already satisfied: yarl<2.0,>=1.0 in c:\\users\\82108\\.conda\\envs\\jiwoo_01\\lib\\site-packages (from aiohttp->openai) (1.9.4)\n",
      "Requirement already satisfied: async-timeout<5.0,>=4.0 in c:\\users\\82108\\.conda\\envs\\jiwoo_01\\lib\\site-packages (from aiohttp->openai) (4.0.3)\n",
      "Requirement already satisfied: colorama in c:\\users\\82108\\appdata\\roaming\\python\\python310\\site-packages (from tqdm->openai) (0.4.6)\n",
      "Note: you may need to restart the kernel to use updated packages.\n"
     ]
    }
   ],
   "source": [
    "pip install python-dotenv openai"
   ]
  },
  {
   "cell_type": "code",
   "execution_count": null,
   "metadata": {},
   "outputs": [],
   "source": [
    "# userdata 모듈과 os 모듈을 사용하여 환경 변수를 설정\n",
    "# 주로 API 키를 안전하게 다루기 위해 사용\n",
    "\n",
    "# open api key입력\n",
    "from dotenv import load_dotenv\n",
    "import os\n",
    "import openai\n",
    "\n",
    "# .env 파일 활성화\n",
    "load_dotenv()\n",
    "\n",
    "# 환경 변수 가져오기\n",
    "api_key = os.getenv('api_key_07')\n",
    "openai.api_key = api_key"
   ]
  },
  {
   "cell_type": "code",
   "execution_count": null,
   "metadata": {},
   "outputs": [],
   "source": [
    "import openai\n",
    "\n",
    "# 운영체제와 상호작용할 수 있는 다양한 기능을 제공\n",
    "import os\n",
    "# 코드 실행을 일시 중지하거나 시간 차이를 측정할 때 유용\n",
    "import time\n",
    "\n",
    "import textwrap\n",
    "\n",
    "# textwrap\n",
    "# 파이썬 표준 라이브러리 모듈\n",
    "# 텍스트를 특정한 너비(width)로 잘라서 여러 줄로 나누는 데 유용\n",
    "# textwrap은 현재 지원하지 않아서 버젼을 낮춰야 함"
   ]
  },
  {
   "cell_type": "code",
   "execution_count": null,
   "metadata": {},
   "outputs": [],
   "source": [
    "#  OpenAI의 GPT-3.5-turbo 모델을 사용하여 주어진 프롬프트나 메시지에 대한 응답을 생성하는 함수\n",
    "\n",
    "# 단일 프롬프트를 받아서 모델의 응답을 생성\n",
    "def get_completion(prompt, model=\"gpt-3.5-turbo\"):\n",
    "  # prompt : 사용자로 받은 텍스트 입력\n",
    "  # model: 사용할 모델의 이름으로 기본값은 \"gpt-3.5-turbo\"\n",
    "\n",
    "    # prompt를 사용자 메시지로 설정하여 리스트 생성\n",
    "    messages = [{\"role\": \"user\", \"content\": prompt}]\n",
    "    # openai api를 호출하여 모델의 응답을 생성\n",
    "    response = openai.ChatCompletion.create(\n",
    "        model=model,\n",
    "        messages=messages,\n",
    "        temperature=0, # this is the degree of randomness of the model's output\n",
    "        # temperature=0 사무적이고 딱딱한 말투, 정확한 자료\n",
    "        # 1에 가까워질 수록 소설쓰는 것처럼 약각 기괴한?, 그림동화, 공상과학(거짓말)\n",
    "    )\n",
    "    return response.choices[0].message[\"content\"]\n",
    "\n",
    "# 여러 메시지를 받아서 모델의 응답을 생성\n",
    "def get_completion_from_messages(messages, model=\"gpt-3.5-turbo\", temperature=0):\n",
    "    response = openai.ChatCompletion.create(\n",
    "        model=model,\n",
    "        messages=messages,\n",
    "        temperature=temperature, # this is the degree of randomness of the model's output\n",
    "    )\n",
    "    print('response from openai == ', response)\n",
    "\n",
    "    return response.choices[0].message['content']"
   ]
  },
  {
   "cell_type": "code",
   "execution_count": null,
   "metadata": {},
   "outputs": [],
   "source": [
    "# 시스템 초기 설정을 정의\n",
    "context = [\n",
    "    {'role':'system',   # 역할 정의\n",
    "    'content': '''      # 역할의 내용 정의/시스템 메시지의 내용 >> 요청\n",
    "                You're a helpful assistant.\n",
    "                Please answer in a lastly questioned language.\n",
    "                '''}\n",
    "]"
   ]
  },
  {
   "cell_type": "code",
   "execution_count": null,
   "metadata": {},
   "outputs": [
    {
     "name": "stdout",
     "output_type": "stream",
     "text": [
      "response from openai ==  {\n",
      "  \"id\": \"chatcmpl-9ohakzDZkB61LiDAVBBTSJCTxrylk\",\n",
      "  \"object\": \"chat.completion\",\n",
      "  \"created\": 1721870994,\n",
      "  \"model\": \"gpt-4o-2024-05-13\",\n",
      "  \"choices\": [\n",
      "    {\n",
      "      \"index\": 0,\n",
      "      \"message\": {\n",
      "        \"role\": \"assistant\",\n",
      "        \"content\": \"\\uace0\\uad6c\\ub824\\uc640 \\uae40\\uc720\\uc2e0 \\uc7a5\\uad70\\uc740 \\uc11c\\ub85c \\ub2e4\\ub978 \\uc2dc\\ub300\\uc640 \\uad6d\\uac00\\uc5d0 \\uc18d\\ud55c \\uc778\\ubb3c\\ub4e4\\uc785\\ub2c8\\ub2e4. \\uace0\\uad6c\\ub824\\ub294 \\uae30\\uc6d0\\uc804 37\\ub144\\ubd80\\ud130 \\uae30\\uc6d0\\ud6c4 668\\ub144\\uae4c\\uc9c0 \\uc874\\uc7ac\\ud55c \\uace0\\ub300 \\ud55c\\uad6d\\uc758 \\uc0bc\\uad6d \\uc911 \\ud558\\ub098\\uc600\\uace0, \\uae40\\uc720\\uc2e0 \\uc7a5\\uad70\\uc740 \\uc2e0\\ub77c\\uc758 \\uc7a5\\uad70\\uc73c\\ub85c 595\\ub144\\ubd80\\ud130 673\\ub144\\uae4c\\uc9c0 \\uc0b4\\uc558\\uc2b5\\ub2c8\\ub2e4. \\ub530\\ub77c\\uc11c \\uace0\\uad6c\\ub824\\uc640 \\uae40\\uc720\\uc2e0 \\uc7a5\\uad70\\uc774 \\uc9c1\\uc811\\uc801\\uc73c\\ub85c \\uad00\\ub828\\ub41c \\uc77c\\ud654\\ub294 \\uc874\\uc7ac\\ud558\\uc9c0 \\uc54a\\uc2b5\\ub2c8\\ub2e4.\\n\\n\\ub610\\ud55c, \\uc138\\uc885\\ub300\\uc655\\uc740 \\uc870\\uc120\\uc758 \\uc81c4\\ub300 \\uc655\\uc73c\\ub85c 1397\\ub144\\ubd80\\ud130 1450\\ub144\\uae4c\\uc9c0 \\uc0b4\\uc558\\uc73c\\uba70, \\uae40\\uc720\\uc2e0 \\uc7a5\\uad70\\uacfc\\ub294 \\uc2dc\\ub300\\uc801\\uc73c\\ub85c \\uc57d 700\\ub144\\uc758 \\ucc28\\uc774\\uac00 \\uc788\\uc2b5\\ub2c8\\ub2e4. \\ub530\\ub77c\\uc11c \\uc138\\uc885\\ub300\\uc655\\uacfc \\uae40\\uc720\\uc2e0 \\uc7a5\\uad70\\uc774 \\ucda9\\uccad\\ub3c4 \\uc0ac\\ud22c\\ub9ac\\ub85c \\uc2f8\\uc6b4 \\uc77c\\ud654\\ub294 \\uc5ed\\uc0ac\\uc801 \\uc0ac\\uc2e4\\uc774 \\uc544\\ub2d9\\ub2c8\\ub2e4.\\n\\n\\ud639\\uc2dc \\ub2e4\\ub978 \\uc5ed\\uc0ac\\uc801 \\uc778\\ubb3c\\uc774\\ub098 \\uc0ac\\uac74\\uc5d0 \\ub300\\ud574 \\uad81\\uae08\\ud55c \\uc810\\uc774 \\uc788\\uc73c\\uc2dc\\uba74 \\ub9d0\\uc500\\ud574 \\uc8fc\\uc138\\uc694.\"\n",
      "      },\n",
      "      \"logprobs\": null,\n",
      "      \"finish_reason\": \"stop\"\n",
      "    }\n",
      "  ],\n",
      "  \"usage\": {\n",
      "    \"prompt_tokens\": 102,\n",
      "    \"completion_tokens\": 201,\n",
      "    \"total_tokens\": 303\n",
      "  },\n",
      "  \"system_fingerprint\": \"fp_400f27fa1f\"\n",
      "}\n",
      "response form function 고구려와 김유신 장군은 서로 다른 시대와 국가에 속한 인물들입니다. 고구려는 기원전 37년부터 기원후 668년까지 존재한 고대 한국의 삼국 중 하나였고, 김유신 장군은 신라의 장군으로 595년부터 673년까지 살았습니다. 따라서 고구려와 김유신 장군이 직접적으로 관련된 일화는 존재하지 않습니다.\n",
      "\n",
      "또한, 세종대왕은 조선의 제4대 왕으로 1397년부터 1450년까지 살았으며, 김유신 장군과는 시대적으로 약 700년의 차이가 있습니다. 따라서 세종대왕과 김유신 장군이 충청도 사투리로 싸운 일화는 역사적 사실이 아닙니다.\n",
      "\n",
      "혹시 다른 역사적 인물이나 사건에 대해 궁금한 점이 있으시면 말씀해 주세요.\n"
     ]
    }
   ],
   "source": [
    "# AI에게 특정 정보를 요청\n",
    "prompt = '''\n",
    "고구려 김유신 장군에 대해 상세히 설명해줘. 특히 한반도 대첩에서 세종대왕과\n",
    "격렬하게 충청도 사투리로 싸운 [사투리 대첩]일화에 대해서 설명해줘.\n",
    "'''\n",
    "\n",
    "context.append({'role':'user', 'content':f\"{prompt}\"})\n",
    "\n",
    "# 모델 정의\n",
    "# 'gpt-4o'로 했을 때 오류를 더 잘 걸러냄\n",
    "#ai_model = 'gpt-3.5-turbo-16k'\n",
    "ai_model = 'gpt-4o'\n",
    "\n",
    "# 추출된 답변 부분\n",
    "response = get_completion_from_messages(context, model=ai_model)\n",
    "print(\"response form function\",response)"
   ]
  },
  {
   "cell_type": "code",
   "execution_count": null,
   "metadata": {},
   "outputs": [
    {
     "name": "stdout",
     "output_type": "stream",
     "text": [
      "ai_model>  gpt-4o\n",
      "고구려와 김유신 장군은 서로 다른 시대와 국가에 속한 인물들입니다. 고구려는 기원전 37년부터 기원후 668년까지 존재한 고대\n",
      "한국의 삼국 중 하나였고, 김유신 장군은 신라의 장군으로 595년부터 673년까지 살았습니다. 따라서 고구려와 김유신 장군이\n",
      "직접적으로 관련된 일화는 존재하지 않습니다.\n",
      "\n",
      "또한, 세종대왕은 조선의 제4대 왕으로 1397년부터 1450년까지 살았으며,\n",
      "김유신 장군과는 시대적으로 약 700년의 차이가 있습니다. 따라서 세종대왕과 김유신 장군이 충청도 사투리로 싸운 일화는 역사적\n",
      "사실이 아닙니다.\n",
      "\n",
      "혹시 다른 역사적 인물이나 사건에 대해 궁금한 점이 있으시면 말씀해 주세요.\n"
     ]
    }
   ],
   "source": [
    "# wrap this test\n",
    "# wrapper 객체 생성\n",
    "wrapper = textwrap.TextWrapper(width=70, break_long_words = False,\n",
    "                               replace_whitespace = False)\n",
    "\n",
    "# break_long_words=False\n",
    "# >> 긴 단어를 강제로 나누지 않음\n",
    "# >> 즉, 있는 그대로 >> 단어가 너비를 초과하면? 그 단어는 다음 줄로 넘어감 (\\n 기능 탑재)\n",
    "\n",
    "# replace_whitespace=False\n",
    "# >> 연속된 공백문자를 하나의 공백문자로 대체하지 않음\n",
    "# >> 원본 텍스트의 공백을 그대로 유지\n",
    "\n",
    "word_list = wrapper.wrap(text = response)\n",
    "\n",
    "print('ai_model> ', ai_model)\n",
    "\n",
    "for element in word_list:\n",
    "    print(element)"
   ]
  },
  {
   "cell_type": "markdown",
   "metadata": {},
   "source": [
    "Completion Model"
   ]
  },
  {
   "cell_type": "code",
   "execution_count": null,
   "metadata": {},
   "outputs": [
    {
     "name": "stdout",
     "output_type": "stream",
     "text": [
      "고구려와 김유신 장군은 서로 다른 시대와 국가에 속한 인물들입니다. 고구려는 기원전 37년부터 기원후 668년까지 존재한 고대\n",
      "한국의 삼국 중 하나였고, 김유신 장군은 신라의 장군으로 595년부터 673년까지 살았습니다. 따라서 고구려와 김유신 장군이\n",
      "직접적으로 관련된 일화는 존재하지 않습니다.\n",
      "\n",
      "또한, 세종대왕은 조선의 제4대 왕으로 1397년부터 1450년까지 살았으며,\n",
      "김유신 장군과는 시대적으로 약 700년의 차이가 있습니다. 따라서 세종대왕과 김유신 장군이 충청도 사투리로 싸운 일화는 역사적\n",
      "사실이 아닙니다.\n",
      "\n",
      "혹시 다른 역사적 인물이나 사건에 대해 궁금한 점이 있으시면 말씀해 주세요.\n"
     ]
    }
   ],
   "source": [
    "prompt = '''\n",
    "조선총독부 윤석열 총독에 대해 상세히 설명해줘. 특히 샤넬 백 사건에 대해서\n",
    "백제 정청래 장군과 싸운 '광주 대첩'에 대한 일화에 대해 설명해줘\n",
    "'''\n",
    "\n",
    "context.append({'role':'user', 'content':f\"{prompt}\"})\n",
    "\n",
    "# completion model과  chat completion 모델 차이\n",
    "\n",
    "ai_model = 'gpt-3.5-turbo-instruct'\n",
    "\n",
    "# 에러 발생 >> chat completion 방식으로 접속시 에러 발생\n",
    "# response = get_completion_from_messages(context, model=ai_model)\n",
    "# print(\"response form function\",response)\n",
    "\n",
    "for element in word_list:\n",
    "  print(element)"
   ]
  },
  {
   "cell_type": "code",
   "execution_count": null,
   "metadata": {},
   "outputs": [],
   "source": [
    "# Completion 방식에서 답변을 얻기 위한 함수\n",
    "def get_completion_from_instruction(instruction, model='gtp-3.5-turbo-instruct',\n",
    "                                    temperature=0):\n",
    "    response = openai.Completion.create(\n",
    "         model = model,\n",
    "         prompt=instruction,\n",
    "         max_tokens=2048,\n",
    "         temperature=temperature\n",
    "    )\n",
    "    print('response from function > ', response)\n",
    "    return response.choices[0].text"
   ]
  },
  {
   "cell_type": "code",
   "execution_count": null,
   "metadata": {},
   "outputs": [
    {
     "name": "stdout",
     "output_type": "stream",
     "text": [
      "response from function >  {\n",
      "  \"id\": \"cmpl-9ohbAcKvd0ahfz3XkWBHuBqW5dEyg\",\n",
      "  \"object\": \"text_completion\",\n",
      "  \"created\": 1721871020,\n",
      "  \"model\": \"gpt-3.5-turbo-instruct\",\n",
      "  \"choices\": [\n",
      "    {\n",
      "      \"text\": \"\\n\\uc870\\uc120\\ucd1d\\ub3c5\\ubd80\\ub294 \\uc77c\\uc81c\\uac00 \\uc870\\uc120\\ubc18\\ub3c4\\ub97c \\uc2dd\\ubbfc\\uc9c0\\ub85c \\ub9cc\\ub4e4\\uae30 \\uc704\\ud574 \\uc124\\uce58\\ud55c \\ud589\\uc815\\uae30\\uad00\\uc774\\ub2e4. 1910\\ub144\\ubd80\\ud130 1945\\ub144\\uae4c\\uc9c0 \\ucd1d\\ub3c5\\ubd80\\ub294 \\uc870\\uc120\\uc758 \\uacbd\\uc81c, \\uad50\\uc721, \\ubb38\\ud654, \\uc815\\uce58 \\ub4f1 \\ubaa8\\ub4e0 \\ubd84\\uc57c\\ub97c \\ud1b5\\uc81c\\ud558\\uba70 \\uc77c\\uc81c\\uc758 \\uc2dd\\ubbfc\\uc9c0 \\uc9c0\\ubc30\\ub97c \\uac15\\ud654\\ud588\\ub2e4. \\uc724\\uc11d\\uc5f4 \\ucd1d\\ub3c5\\uc740 1936\\ub144\\ubd80\\ud130 1942\\ub144\\uae4c\\uc9c0 \\uc870\\uc120\\ucd1d\\ub3c5\\ubd80 \\ucd1d\\ub3c5\\uc73c\\ub85c \\uc784\\uba85\\ub418\\uc5b4 \\uc77c\\uc81c\\uc758 \\uc2dd\\ubbfc\\uc9c0 \\uc9c0\\ubc30\\ub97c \\uac15\\ub825\\ud558\\uac8c \\ucd94\\uc9c4\\ud588\\ub2e4. \\uadf8\\ub294 \\uc77c\\uc81c\\uc758 \\uc815\\ucc45\\uc744 \\ubb34\\uc870\\uac74\\uc801\\uc73c\\ub85c \\uc218\\ud589\\ud558\\uba70 \\uc870\\uc120\\uc778\\ub4e4\\uc744 \\uc5b5\\uc555\\ud558\\uace0 \\ud559\\uc0b4\\ud558\\ub294 \\ub4f1 \\ub9ce\\uc740 \\uc545\\ud589\\uc744 \\uc800\\uc9c8\\ub800\\ub2e4.\\n\\n\\uc0e4\\ub12c \\ubc31 \\uc0ac\\uac74\\uc740 1936\\ub144 \\uc724\\uc11d\\uc5f4 \\ucd1d\\ub3c5\\uc774 \\uc0e4\\ub12c \\ubc31\\uc744 \\uc120\\ubb3c\\ubc1b\\uc740 \\uc77c\\ubcf8\\uc778 \\uc5ec\\uc131\\uc744 \\ubcf4\\uace0 \\uc9c1\\uc811 \\ucc3e\\uc544\\uac00\\uc11c \\ubc31\\uc744 \\ube7c\\uc557\\uc544 \\uac04 \\uc0ac\\uac74\\uc774\\ub2e4. \\uc774 \\uc0ac\\uac74\\uc740 \\uc77c\\uc81c\\uc758 \\uc870\\uc120\\uc778\\ub4e4\\uc5d0 \\ub300\\ud55c \\ucc28\\ubcc4\\uacfc \\uc5b5\\uc555\\uc744 \\ubcf4\\uc5ec\\uc8fc\\ub294 \\uc0ac\\ub840\\ub85c\\uc11c \\ud070 \\ub17c\\ub780\\uc744 \\uc77c\\uc73c\\ucf30\\ub2e4. \\uc724\\uc11d\\uc5f4 \\ucd1d\\ub3c5\\uc740 \\uc774 \\uc0ac\\uac74\\uc744 \\ubb34\\uc2dc\\ud558\\uace0 \\uc77c\\uc81c\\uc758 \\uc815\\ucc45\\uc744 \\uacc4\\uc18d \\ucd94\\uc9c4\\ud588\\uc73c\\uba70 \\uc870\\uc120\\uc778\\ub4e4\\uc758 \\ud56d\\uc758\\uc5d0\\ub3c4 \\uadc0\\ub97c \\uae30\\uc6b8\\uc774\\uc9c0 \\uc54a\\uc558\\ub2e4.\\n\\n\\ubc31\\uc81c \\uc815\\uccad\\ub798 \\uc7a5\\uad70\\uc740 1929\\ub144 \\uc77c\\uc81c\\uc758 \\uc870\\uc120 \\uc2dd\\ubbfc\\uc9c0 \\uc9c0\\ubc30\\uc5d0 \\ud56d\\uac70\\ud558\\uae30 \\uc704\\ud574 \\uc870\\uc120\\uad70\\uc744 \\uc870\\uc9c1\\ud558\\uace0 \\uad11\\uc8fc\\uc5d0\\uc11c \\uc77c\\ubcf8\\uad70\\uacfc \\uc2f8\\uc6e0\\ub2e4. \\uc774\\ub97c '\\uad11\\uc8fc \\ub300\\ucca9'\\uc774\\ub77c\\uace0 \\ud55c\\ub2e4. \\uc815\\uccad\\ub798 \\uc7a5\\uad70\\uc740 \\uc77c\\uc81c\\uc758 \\uc5b5\\uc555\\uacfc \\ucc28\\ubcc4\\uc5d0 \\ub9de\\uc11c \\uc2f8\\uc6b0\\uba70 \\uc870\\uc120\\uc778\\ub4e4\\uc758 \\ub3c5\\ub9bd\\uc744 \\uc704\\ud574 \\ud5cc\\uc2e0\\ud588\\ub2e4. \\uadf8\\ub294 \\uad11\\uc8fc \\ub300\\ucca9\\uc5d0\\uc11c \\uc77c\\ubcf8\\uad70\\uc744 \\uaca9\\ud30c\\ud558\\uace0 \\uc77c\\uc81c\\uc758 \\uc2dd\\ubbfc\\uc9c0 \\uc9c0\\ubc30\\uc5d0 \\ub300\\ud55c \\ud56d\\uac70\\uc758 \\uc758\\uc9c0\\ub97c \\ubcf4\\uc5ec\\uc8fc\\uc5c8\\ub2e4. \\ud558\\uc9c0\\ub9cc \\uacb0\\uad6d \\uc77c\\ubcf8\\uad70\\uc758 \\uacf5\\uaca9\\uc73c\\ub85c \\uc778\\ud574 \\uc815\\uccad\\ub798 \\uc7a5\\uad70\\uc740 \\uc0ac\\ub9dd\\ud558\\uc600\\uace0 \\uad11\\uc8fc \\ub300\\ucca9\\uc740 \\uc2e4\\ud328\\ub85c \\ub05d\\ub098\\uac8c \\ub418\\uc5c8\\ub2e4. \\uadf8\\ub7ec\\ub098 \\uc815\\uccad\\ub798 \\uc7a5\\uad70\\uc758 \\ud76c\\uc0dd\\uc740 \\uc870\\uc120\\uc778\\ub4e4\\uc758 \\ub3c5\\ub9bd\\uc6b4\\ub3d9\\uc5d0 \\ud070 \\uc601\\ud5a5\\uc744 \\ubbf8\\ucce4\\uace0 \\uadf8\\uc758 \\uc774\\ub984\\uc740 \\uc870\\uc120\\uc778\\ub4e4\\uc758 \\uc601\\uc6c5\\uc73c\\ub85c \\uae30\\uc5b5\\ub418\\uace0 \\uc788\\ub2e4.\",\n",
      "      \"index\": 0,\n",
      "      \"logprobs\": null,\n",
      "      \"finish_reason\": \"stop\"\n",
      "    }\n",
      "  ],\n",
      "  \"usage\": {\n",
      "    \"prompt_tokens\": 92,\n",
      "    \"completion_tokens\": 740,\n",
      "    \"total_tokens\": 832\n",
      "  }\n",
      "}\n",
      "response from function >  \n",
      "조선총독부는 일제가 조선반도를 식민지로 만들기 위해 설치한 행정기관이다. 1910년부터 1945년까지 총독부는 조선의 경제, 교육, 문화, 정치 등 모든 분야를 통제하며 일제의 식민지 지배를 강화했다. 윤석열 총독은 1936년부터 1942년까지 조선총독부 총독으로 임명되어 일제의 식민지 지배를 강력하게 추진했다. 그는 일제의 정책을 무조건적으로 수행하며 조선인들을 억압하고 학살하는 등 많은 악행을 저질렀다.\n",
      "\n",
      "샤넬 백 사건은 1936년 윤석열 총독이 샤넬 백을 선물받은 일본인 여성을 보고 직접 찾아가서 백을 빼앗아 간 사건이다. 이 사건은 일제의 조선인들에 대한 차별과 억압을 보여주는 사례로서 큰 논란을 일으켰다. 윤석열 총독은 이 사건을 무시하고 일제의 정책을 계속 추진했으며 조선인들의 항의에도 귀를 기울이지 않았다.\n",
      "\n",
      "백제 정청래 장군은 1929년 일제의 조선 식민지 지배에 항거하기 위해 조선군을 조직하고 광주에서 일본군과 싸웠다. 이를 '광주 대첩'이라고 한다. 정청래 장군은 일제의 억압과 차별에 맞서 싸우며 조선인들의 독립을 위해 헌신했다. 그는 광주 대첩에서 일본군을 격파하고 일제의 식민지 지배에 대한 항거의 의지를 보여주었다. 하지만 결국 일본군의 공격으로 인해 정청래 장군은 사망하였고 광주 대첩은 실패로 끝나게 되었다. 그러나 정청래 장군의 희생은 조선인들의 독립운동에 큰 영향을 미쳤고 그의 이름은 조선인들의 영웅으로 기억되고 있다.\n"
     ]
    }
   ],
   "source": [
    "prompt = \"\"\"\n",
    "조선총독부 윤석열 총독에 대해 상세히 설명해줘. 특히 샤넬 백 사건에 대해서\n",
    "백제 정청래 장군과 싸운 '광주 대첩'에 대한 일화에 대해서 설명해줘\n",
    "\"\"\"\n",
    "ai_model = 'gpt-3.5-turbo-instruct'\n",
    "\n",
    "response = get_completion_from_instruction(prompt, model=ai_model)\n",
    "print('response from function > ', response)\n",
    "\n"
   ]
  },
  {
   "cell_type": "code",
   "execution_count": null,
   "metadata": {},
   "outputs": [
    {
     "name": "stdout",
     "output_type": "stream",
     "text": [
      "ai_model>  gpt-4o\n",
      "\n",
      "조선총독부는 일제가 조선반도를 식민지로 만들기 위해 설치한 행정기관이다. 1910년부터\n",
      "1945년까지 총독부는 조선의 경제, 교육, 문화, 정치 등 모든 분야를 통제하며 일제의\n",
      "식민지 지배를 강화했다. 윤석열 총독은 1936년부터 1942년까지 조선총독부 총독으로\n",
      "임명되어 일제의 식민지 지배를 강력하게 추진했다. 그는 일제의 정책을 무조건적으로 수행하며\n",
      "조선인들을 억압하고 학살하는 등 많은 악행을 저질렀다.\n",
      "\n",
      "샤넬 백 사건은 1936년 윤석열\n",
      "총독이 샤넬 백을 선물받은 일본인 여성을 보고 직접 찾아가서 백을 빼앗아 간 사건이다. 이\n",
      "사건은 일제의 조선인들에 대한 차별과 억압을 보여주는 사례로서 큰 논란을 일으켰다. 윤석열\n",
      "총독은 이 사건을 무시하고 일제의 정책을 계속 추진했으며 조선인들의 항의에도 귀를 기울이지\n",
      "않았다.\n",
      "\n",
      "백제 정청래 장군은 1929년 일제의 조선 식민지 지배에 항거하기 위해 조선군을\n",
      "조직하고 광주에서 일본군과 싸웠다. 이를 '광주 대첩'이라고 한다. 정청래 장군은 일제의\n",
      "억압과 차별에 맞서 싸우며 조선인들의 독립을 위해 헌신했다. 그는 광주 대첩에서 일본군을\n",
      "격파하고 일제의 식민지 지배에 대한 항거의 의지를 보여주었다. 하지만 결국 일본군의\n",
      "공격으로 인해 정청래 장군은 사망하였고 광주 대첩은 실패로 끝나게 되었다. 그러나 정청래\n",
      "장군의 희생은 조선인들의 독립운동에 큰 영향을 미쳤고 그의 이름은 조선인들의 영웅으로\n",
      "기억되고 있다.\n"
     ]
    }
   ],
   "source": [
    "# wrap this text\n",
    "wrapper = textwrap.TextWrapper(width=50, break_long_words=False,\n",
    "                                replace_whitespace=False)\n",
    "\n",
    "# break_long_words=False\n",
    "# >> 긴 단어를 강제로 나누지 않음\n",
    "# >> 즉, 있는 그대로 >> 단어가 너비를 초과하면? 그 단어는 다음 줄로 넘어감 (\\n 기능 탑재)\n",
    "\n",
    "# replace_whitespace=False\n",
    "# >> 연속된 공백문자를 하나의 공백문자로 대체하지 않음\n",
    "# >> 원본 텍스트의 공백을 그대로 유지\n",
    "\n",
    "word_list = wrapper.wrap(text=response)\n",
    "\n",
    "print('ai_model> ', ai_model)\n",
    "\n",
    "for element in word_list:\n",
    "    print(element)"
   ]
  },
  {
   "cell_type": "markdown",
   "metadata": {},
   "source": [
    "랭체인 사용해서 호출해보기"
   ]
  },
  {
   "cell_type": "code",
   "execution_count": null,
   "metadata": {},
   "outputs": [
    {
     "name": "stdout",
     "output_type": "stream",
     "text": [
      "Requirement already satisfied: langchain in c:\\users\\82108\\.conda\\envs\\jiwoo_01\\lib\\site-packages (0.2.11)\n",
      "Requirement already satisfied: PyYAML>=5.3 in c:\\users\\82108\\.conda\\envs\\jiwoo_01\\lib\\site-packages (from langchain) (6.0.1)\n",
      "Requirement already satisfied: SQLAlchemy<3,>=1.4 in c:\\users\\82108\\.conda\\envs\\jiwoo_01\\lib\\site-packages (from langchain) (2.0.31)\n",
      "Requirement already satisfied: aiohttp<4.0.0,>=3.8.3 in c:\\users\\82108\\.conda\\envs\\jiwoo_01\\lib\\site-packages (from langchain) (3.9.5)\n",
      "Requirement already satisfied: async-timeout<5.0.0,>=4.0.0 in c:\\users\\82108\\.conda\\envs\\jiwoo_01\\lib\\site-packages (from langchain) (4.0.3)\n",
      "Requirement already satisfied: langchain-core<0.3.0,>=0.2.23 in c:\\users\\82108\\.conda\\envs\\jiwoo_01\\lib\\site-packages (from langchain) (0.2.23)\n",
      "Requirement already satisfied: langchain-text-splitters<0.3.0,>=0.2.0 in c:\\users\\82108\\.conda\\envs\\jiwoo_01\\lib\\site-packages (from langchain) (0.2.2)\n",
      "Requirement already satisfied: langsmith<0.2.0,>=0.1.17 in c:\\users\\82108\\.conda\\envs\\jiwoo_01\\lib\\site-packages (from langchain) (0.1.93)\n",
      "Requirement already satisfied: numpy<2,>=1 in c:\\users\\82108\\.conda\\envs\\jiwoo_01\\lib\\site-packages (from langchain) (1.26.4)\n",
      "Requirement already satisfied: pydantic<3,>=1 in c:\\users\\82108\\.conda\\envs\\jiwoo_01\\lib\\site-packages (from langchain) (2.8.2)\n",
      "Requirement already satisfied: requests<3,>=2 in c:\\users\\82108\\.conda\\envs\\jiwoo_01\\lib\\site-packages (from langchain) (2.31.0)\n",
      "Requirement already satisfied: tenacity!=8.4.0,<9.0.0,>=8.1.0 in c:\\users\\82108\\.conda\\envs\\jiwoo_01\\lib\\site-packages (from langchain) (8.5.0)\n",
      "Requirement already satisfied: aiosignal>=1.1.2 in c:\\users\\82108\\.conda\\envs\\jiwoo_01\\lib\\site-packages (from aiohttp<4.0.0,>=3.8.3->langchain) (1.3.1)\n",
      "Requirement already satisfied: attrs>=17.3.0 in c:\\users\\82108\\.conda\\envs\\jiwoo_01\\lib\\site-packages (from aiohttp<4.0.0,>=3.8.3->langchain) (23.1.0)\n",
      "Requirement already satisfied: frozenlist>=1.1.1 in c:\\users\\82108\\.conda\\envs\\jiwoo_01\\lib\\site-packages (from aiohttp<4.0.0,>=3.8.3->langchain) (1.4.1)\n",
      "Requirement already satisfied: multidict<7.0,>=4.5 in c:\\users\\82108\\.conda\\envs\\jiwoo_01\\lib\\site-packages (from aiohttp<4.0.0,>=3.8.3->langchain) (6.0.5)\n",
      "Requirement already satisfied: yarl<2.0,>=1.0 in c:\\users\\82108\\.conda\\envs\\jiwoo_01\\lib\\site-packages (from aiohttp<4.0.0,>=3.8.3->langchain) (1.9.4)\n",
      "Requirement already satisfied: jsonpatch<2.0,>=1.33 in c:\\users\\82108\\.conda\\envs\\jiwoo_01\\lib\\site-packages (from langchain-core<0.3.0,>=0.2.23->langchain) (1.33)\n",
      "Requirement already satisfied: packaging<25,>=23.2 in c:\\users\\82108\\.conda\\envs\\jiwoo_01\\lib\\site-packages (from langchain-core<0.3.0,>=0.2.23->langchain) (23.2)\n",
      "Requirement already satisfied: orjson<4.0.0,>=3.9.14 in c:\\users\\82108\\.conda\\envs\\jiwoo_01\\lib\\site-packages (from langsmith<0.2.0,>=0.1.17->langchain) (3.10.6)\n",
      "Requirement already satisfied: annotated-types>=0.4.0 in c:\\users\\82108\\.conda\\envs\\jiwoo_01\\lib\\site-packages (from pydantic<3,>=1->langchain) (0.7.0)\n",
      "Requirement already satisfied: pydantic-core==2.20.1 in c:\\users\\82108\\.conda\\envs\\jiwoo_01\\lib\\site-packages (from pydantic<3,>=1->langchain) (2.20.1)\n",
      "Requirement already satisfied: typing-extensions>=4.6.1 in c:\\users\\82108\\.conda\\envs\\jiwoo_01\\lib\\site-packages (from pydantic<3,>=1->langchain) (4.9.0)\n",
      "Requirement already satisfied: charset-normalizer<4,>=2 in c:\\users\\82108\\.conda\\envs\\jiwoo_01\\lib\\site-packages (from requests<3,>=2->langchain) (2.0.4)\n",
      "Requirement already satisfied: idna<4,>=2.5 in c:\\users\\82108\\.conda\\envs\\jiwoo_01\\lib\\site-packages (from requests<3,>=2->langchain) (3.4)\n",
      "Requirement already satisfied: urllib3<3,>=1.21.1 in c:\\users\\82108\\.conda\\envs\\jiwoo_01\\lib\\site-packages (from requests<3,>=2->langchain) (2.1.0)\n",
      "Requirement already satisfied: certifi>=2017.4.17 in c:\\users\\82108\\.conda\\envs\\jiwoo_01\\lib\\site-packages (from requests<3,>=2->langchain) (2024.2.2)\n",
      "Requirement already satisfied: greenlet!=0.4.17 in c:\\users\\82108\\.conda\\envs\\jiwoo_01\\lib\\site-packages (from SQLAlchemy<3,>=1.4->langchain) (3.0.3)\n",
      "Requirement already satisfied: jsonpointer>=1.9 in c:\\users\\82108\\.conda\\envs\\jiwoo_01\\lib\\site-packages (from jsonpatch<2.0,>=1.33->langchain-core<0.3.0,>=0.2.23->langchain) (3.0.0)\n",
      "Requirement already satisfied: langchain_community in c:\\users\\82108\\.conda\\envs\\jiwoo_01\\lib\\site-packages (0.2.10)\n",
      "Requirement already satisfied: PyYAML>=5.3 in c:\\users\\82108\\.conda\\envs\\jiwoo_01\\lib\\site-packages (from langchain_community) (6.0.1)\n",
      "Requirement already satisfied: SQLAlchemy<3,>=1.4 in c:\\users\\82108\\.conda\\envs\\jiwoo_01\\lib\\site-packages (from langchain_community) (2.0.31)\n",
      "Requirement already satisfied: aiohttp<4.0.0,>=3.8.3 in c:\\users\\82108\\.conda\\envs\\jiwoo_01\\lib\\site-packages (from langchain_community) (3.9.5)\n",
      "Requirement already satisfied: dataclasses-json<0.7,>=0.5.7 in c:\\users\\82108\\.conda\\envs\\jiwoo_01\\lib\\site-packages (from langchain_community) (0.6.7)\n",
      "Requirement already satisfied: langchain<0.3.0,>=0.2.9 in c:\\users\\82108\\.conda\\envs\\jiwoo_01\\lib\\site-packages (from langchain_community) (0.2.11)\n",
      "Requirement already satisfied: langchain-core<0.3.0,>=0.2.23 in c:\\users\\82108\\.conda\\envs\\jiwoo_01\\lib\\site-packages (from langchain_community) (0.2.23)\n",
      "Requirement already satisfied: langsmith<0.2.0,>=0.1.0 in c:\\users\\82108\\.conda\\envs\\jiwoo_01\\lib\\site-packages (from langchain_community) (0.1.93)\n",
      "Requirement already satisfied: numpy<2,>=1 in c:\\users\\82108\\.conda\\envs\\jiwoo_01\\lib\\site-packages (from langchain_community) (1.26.4)\n",
      "Requirement already satisfied: requests<3,>=2 in c:\\users\\82108\\.conda\\envs\\jiwoo_01\\lib\\site-packages (from langchain_community) (2.31.0)\n",
      "Requirement already satisfied: tenacity!=8.4.0,<9.0.0,>=8.1.0 in c:\\users\\82108\\.conda\\envs\\jiwoo_01\\lib\\site-packages (from langchain_community) (8.5.0)\n",
      "Requirement already satisfied: aiosignal>=1.1.2 in c:\\users\\82108\\.conda\\envs\\jiwoo_01\\lib\\site-packages (from aiohttp<4.0.0,>=3.8.3->langchain_community) (1.3.1)\n",
      "Requirement already satisfied: attrs>=17.3.0 in c:\\users\\82108\\.conda\\envs\\jiwoo_01\\lib\\site-packages (from aiohttp<4.0.0,>=3.8.3->langchain_community) (23.1.0)\n",
      "Requirement already satisfied: frozenlist>=1.1.1 in c:\\users\\82108\\.conda\\envs\\jiwoo_01\\lib\\site-packages (from aiohttp<4.0.0,>=3.8.3->langchain_community) (1.4.1)\n",
      "Requirement already satisfied: multidict<7.0,>=4.5 in c:\\users\\82108\\.conda\\envs\\jiwoo_01\\lib\\site-packages (from aiohttp<4.0.0,>=3.8.3->langchain_community) (6.0.5)\n",
      "Requirement already satisfied: yarl<2.0,>=1.0 in c:\\users\\82108\\.conda\\envs\\jiwoo_01\\lib\\site-packages (from aiohttp<4.0.0,>=3.8.3->langchain_community) (1.9.4)\n",
      "Requirement already satisfied: async-timeout<5.0,>=4.0 in c:\\users\\82108\\.conda\\envs\\jiwoo_01\\lib\\site-packages (from aiohttp<4.0.0,>=3.8.3->langchain_community) (4.0.3)\n",
      "Requirement already satisfied: marshmallow<4.0.0,>=3.18.0 in c:\\users\\82108\\.conda\\envs\\jiwoo_01\\lib\\site-packages (from dataclasses-json<0.7,>=0.5.7->langchain_community) (3.21.3)\n",
      "Requirement already satisfied: typing-inspect<1,>=0.4.0 in c:\\users\\82108\\.conda\\envs\\jiwoo_01\\lib\\site-packages (from dataclasses-json<0.7,>=0.5.7->langchain_community) (0.9.0)\n",
      "Requirement already satisfied: langchain-text-splitters<0.3.0,>=0.2.0 in c:\\users\\82108\\.conda\\envs\\jiwoo_01\\lib\\site-packages (from langchain<0.3.0,>=0.2.9->langchain_community) (0.2.2)\n",
      "Requirement already satisfied: pydantic<3,>=1 in c:\\users\\82108\\.conda\\envs\\jiwoo_01\\lib\\site-packages (from langchain<0.3.0,>=0.2.9->langchain_community) (2.8.2)\n",
      "Requirement already satisfied: jsonpatch<2.0,>=1.33 in c:\\users\\82108\\.conda\\envs\\jiwoo_01\\lib\\site-packages (from langchain-core<0.3.0,>=0.2.23->langchain_community) (1.33)\n",
      "Requirement already satisfied: packaging<25,>=23.2 in c:\\users\\82108\\.conda\\envs\\jiwoo_01\\lib\\site-packages (from langchain-core<0.3.0,>=0.2.23->langchain_community) (23.2)\n",
      "Requirement already satisfied: orjson<4.0.0,>=3.9.14 in c:\\users\\82108\\.conda\\envs\\jiwoo_01\\lib\\site-packages (from langsmith<0.2.0,>=0.1.0->langchain_community) (3.10.6)\n",
      "Requirement already satisfied: charset-normalizer<4,>=2 in c:\\users\\82108\\.conda\\envs\\jiwoo_01\\lib\\site-packages (from requests<3,>=2->langchain_community) (2.0.4)\n",
      "Requirement already satisfied: idna<4,>=2.5 in c:\\users\\82108\\.conda\\envs\\jiwoo_01\\lib\\site-packages (from requests<3,>=2->langchain_community) (3.4)\n",
      "Requirement already satisfied: urllib3<3,>=1.21.1 in c:\\users\\82108\\.conda\\envs\\jiwoo_01\\lib\\site-packages (from requests<3,>=2->langchain_community) (2.1.0)\n",
      "Requirement already satisfied: certifi>=2017.4.17 in c:\\users\\82108\\.conda\\envs\\jiwoo_01\\lib\\site-packages (from requests<3,>=2->langchain_community) (2024.2.2)\n",
      "Requirement already satisfied: typing-extensions>=4.6.0 in c:\\users\\82108\\.conda\\envs\\jiwoo_01\\lib\\site-packages (from SQLAlchemy<3,>=1.4->langchain_community) (4.9.0)\n",
      "Requirement already satisfied: greenlet!=0.4.17 in c:\\users\\82108\\.conda\\envs\\jiwoo_01\\lib\\site-packages (from SQLAlchemy<3,>=1.4->langchain_community) (3.0.3)\n",
      "Requirement already satisfied: jsonpointer>=1.9 in c:\\users\\82108\\.conda\\envs\\jiwoo_01\\lib\\site-packages (from jsonpatch<2.0,>=1.33->langchain-core<0.3.0,>=0.2.23->langchain_community) (3.0.0)\n",
      "Requirement already satisfied: annotated-types>=0.4.0 in c:\\users\\82108\\.conda\\envs\\jiwoo_01\\lib\\site-packages (from pydantic<3,>=1->langchain<0.3.0,>=0.2.9->langchain_community) (0.7.0)\n",
      "Requirement already satisfied: pydantic-core==2.20.1 in c:\\users\\82108\\.conda\\envs\\jiwoo_01\\lib\\site-packages (from pydantic<3,>=1->langchain<0.3.0,>=0.2.9->langchain_community) (2.20.1)\n",
      "Requirement already satisfied: mypy-extensions>=0.3.0 in c:\\users\\82108\\.conda\\envs\\jiwoo_01\\lib\\site-packages (from typing-inspect<1,>=0.4.0->dataclasses-json<0.7,>=0.5.7->langchain_community) (1.0.0)\n"
     ]
    }
   ],
   "source": [
    "!pip install langchain\n",
    "!pip install langchain_community"
   ]
  },
  {
   "cell_type": "code",
   "execution_count": null,
   "metadata": {},
   "outputs": [],
   "source": [
    "from langchain.chat_models import ChatOpenAI\n",
    "from langchain.prompts import ChatPromptTemplate"
   ]
  },
  {
   "cell_type": "code",
   "execution_count": null,
   "metadata": {},
   "outputs": [],
   "source": [
    "# .env 파일 활성화\n",
    "load_dotenv()\n",
    "\n",
    "# 환경 변수 가져오기\n",
    "api_key = os.getenv('api_key_07')\n",
    "\n",
    "ai_model = 'gpt-4o'\n",
    "\n",
    "model = ChatOpenAI(model=ai_model,\n",
    "           temperature=0, openai_api_key=api_key)"
   ]
  },
  {
   "cell_type": "code",
   "execution_count": null,
   "metadata": {},
   "outputs": [
    {
     "name": "stdout",
     "output_type": "stream",
     "text": [
      "content='김유신 장군은 고구려가 아닌 신라의 역사적 인물입니다. 그는 삼국시대 신라의 대표적인 장군이자 정치가로, 신라의 삼국 통일에 중요한 역할을 했습니다. 김유신은 595년에 태어나 673년에 사망했습니다. 그의 주요 업적과 생애는 다음과 같습니다:\\n\\n1. **출신과 배경**:\\n   - 김유신은 신라의 명문가 출신으로, 그의 아버지는 김서현, 어머니는 만명부인입니다. 만명부인은 신라의 왕족 출신으로, 김유신은 왕족과도 연관이 있는 인물입니다.\\n\\n2. **군사적 업적**:\\n   - 김유신은 신라의 군사 지도자로서 많은 전투에서 승리를 거두었습니다. 특히 백제와의 전투에서 큰 공을 세웠으며, 나당연합군을 이끌고 백제를 멸망시키는 데 중요한 역할을 했습니다.\\n   - 고구려와의 전투에서도 활약하여, 결국 신라가 삼국을 통일하는 데 기여했습니다.\\n\\n3. **정치적 역할**:\\n   - 김유신은 군사적 지도자일 뿐만 아니라 정치적으로도 중요한 역할을 했습니다. 그는 신라의 왕실과 긴밀한 관계를 유지하며, 신라의 정치적 안정과 발전에 기여했습니다.\\n   - 특히, 김춘추(훗날 태종 무열왕)와의 협력 관계는 신라의 삼국 통일 과정에서 중요한 요소였습니다.\\n\\n4. **사후 평가**:\\n   - 김유신은 신라의 역사에서 매우 중요한 인물로 평가받고 있으며, 그의 업적은 후대에 많은 존경을 받았습니다. 그의 무덤은 경주에 위치해 있으며, 많은 사람들이 그를 기리기 위해 방문합니다.\\n\\n김유신 장군은 신라의 삼국 통일 과정에서 군사적, 정치적으로 큰 역할을 한 인물로, 한국 역사에서 중요한 위치를 차지하고 있습니다.' response_metadata={'token_usage': <OpenAIObject at 0x1ba90bd5760> JSON: {\n",
      "  \"prompt_tokens\": 23,\n",
      "  \"completion_tokens\": 456,\n",
      "  \"total_tokens\": 479\n",
      "}, 'model_name': 'gpt-4o', 'system_fingerprint': 'fp_18cc0f1fa0', 'finish_reason': 'stop', 'logprobs': None} id='run-c93723cc-9f3b-42cd-8b85-4aa3dcaa68d1-0'\n"
     ]
    }
   ],
   "source": [
    "prompt = \"\"\"\n",
    "고구려 김유신 장군에 대해 파악해줘\n",
    "\"\"\"\n",
    "response = model.invoke(prompt)\n",
    "\n",
    "print(response)"
   ]
  },
  {
   "cell_type": "code",
   "execution_count": null,
   "metadata": {},
   "outputs": [
    {
     "name": "stdout",
     "output_type": "stream",
     "text": [
      "ai_model >  gpt-4o\n",
      "김유신 장군은 고구려가 아닌 신라의 역사적 인물입니다. 그는 삼국시대 신라의 대표적인\n",
      "장군이자 정치가로, 신라의 삼국 통일에 중요한 역할을 했습니다. 김유신은 595년에 태어나\n",
      "673년에 사망했습니다. 그의 주요 업적과 생애는 다음과 같습니다:\n",
      "\n",
      "1. **출신과\n",
      "배경**:\n",
      "   - 김유신은 신라의 명문가 출신으로, 그의 아버지는 김서현, 어머니는\n",
      "만명부인입니다. 만명부인은 신라의 왕족 출신으로, 김유신은 왕족과도 연관이 있는\n",
      "인물입니다.\n",
      "\n",
      "2. **군사적 업적**:\n",
      "   - 김유신은 신라의 군사 지도자로서 많은\n",
      "전투에서 승리를 거두었습니다. 특히 백제와의 전투에서 큰 공을 세웠으며, 나당연합군을\n",
      "이끌고 백제를 멸망시키는 데 중요한 역할을 했습니다.\n",
      "   - 고구려와의 전투에서도\n",
      "활약하여, 결국 신라가 삼국을 통일하는 데 기여했습니다.\n",
      "\n",
      "3. **정치적 역할**:\n",
      "- 김유신은 군사적 지도자일 뿐만 아니라 정치적으로도 중요한 역할을 했습니다. 그는 신라의\n",
      "왕실과 긴밀한 관계를 유지하며, 신라의 정치적 안정과 발전에 기여했습니다.\n",
      "   - 특히,\n",
      "김춘추(훗날 태종 무열왕)와의 협력 관계는 신라의 삼국 통일 과정에서 중요한 요소였습니다.\n",
      "4. **사후 평가**:\n",
      "   - 김유신은 신라의 역사에서 매우 중요한 인물로 평가받고\n",
      "있으며, 그의 업적은 후대에 많은 존경을 받았습니다. 그의 무덤은 경주에 위치해 있으며,\n",
      "많은 사람들이 그를 기리기 위해 방문합니다.\n",
      "\n",
      "김유신 장군은 신라의 삼국 통일 과정에서\n",
      "군사적, 정치적으로 큰 역할을 한 인물로, 한국 역사에서 중요한 위치를 차지하고 있습니다.\n"
     ]
    }
   ],
   "source": [
    "# 답변 Text 확인\n",
    "output = response.content\n",
    "\n",
    "wrapper = textwrap.TextWrapper(width=50, break_long_words=False,\n",
    "                     replace_whitespace=False)\n",
    "\n",
    "word_list = wrapper.wrap(text=output)\n",
    "print('ai_model > ', ai_model)\n",
    "for element in word_list:\n",
    "    print(element)"
   ]
  },
  {
   "cell_type": "markdown",
   "metadata": {},
   "source": [
    "Chain 사용해 보기"
   ]
  },
  {
   "cell_type": "code",
   "execution_count": null,
   "metadata": {},
   "outputs": [],
   "source": [
    "from langchain import LLMChain, PromptTemplate"
   ]
  },
  {
   "cell_type": "code",
   "execution_count": null,
   "metadata": {},
   "outputs": [
    {
     "name": "stdout",
     "output_type": "stream",
     "text": [
      "prompt template >  input_variables=['question'] template='아래의 질문에 대해서 전라도 사투리로 대답해줘\\n{question}\\n'\n",
      "llm chain >  prompt=PromptTemplate(input_variables=['question'], template='아래의 질문에 대해서 전라도 사투리로 대답해줘\\n{question}\\n') llm=ChatOpenAI(client=<class 'openai.api_resources.chat_completion.ChatCompletion'>, model_name='gpt-4o', temperature=0.0, openai_api_key='sk-proj-saM6zPBYuhehXpbriWrxT3BlbkFJPMa2n5QQ8zKA2xhFwAJ4', openai_proxy='')\n"
     ]
    },
    {
     "name": "stderr",
     "output_type": "stream",
     "text": [
      "c:\\Users\\82108\\.conda\\envs\\jiwoo_01\\lib\\site-packages\\langchain_core\\_api\\deprecation.py:139: LangChainDeprecationWarning: The class `LLMChain` was deprecated in LangChain 0.1.17 and will be removed in 1.0. Use RunnableSequence, e.g., `prompt | llm` instead.\n",
      "  warn_deprecated(\n"
     ]
    }
   ],
   "source": [
    "# 특정 질문에 대해 전라도 사투리로 답변을 생성\n",
    "\n",
    "# template 정의\n",
    "template = \"\"\"아래의 질문에 대해서 전라도 사투리로 대답해줘\n",
    "{question}\n",
    "\"\"\"\n",
    "# PromptTemplate 생성\n",
    "prompt = PromptTemplate(template=template, input_variables=['question'])\n",
    "print('prompt template > ', prompt)\n",
    "\n",
    "# LLMChain 생성:\n",
    "llm_chain = LLMChain(prompt=prompt, llm = model)\n",
    "print('llm chain > ', llm_chain)"
   ]
  },
  {
   "cell_type": "code",
   "execution_count": null,
   "metadata": {},
   "outputs": [
    {
     "name": "stderr",
     "output_type": "stream",
     "text": [
      "c:\\Users\\82108\\.conda\\envs\\jiwoo_01\\lib\\site-packages\\langchain_core\\_api\\deprecation.py:139: LangChainDeprecationWarning: The method `Chain.run` was deprecated in langchain 0.1.0 and will be removed in 0.3.0. Use invoke instead.\n",
      "  warn_deprecated(\n"
     ]
    },
    {
     "data": {
      "text/plain": [
       "'강감찬 장군은 백제 영웅이 아니고 고려 시대의 장군이여. 백제 시절이랑은 시대가 다르제. 강감찬 장군은 고려 때 거란족 침입을 막아낸 유명한 장군이여. 특히 귀주대첩에서 큰 승리를 거둬서 나라를 지켰제. 백제 영웅을 찾는다면, 예를 들어 계백 장군 같은 분이 있제.'"
      ]
     },
     "metadata": {},
     "output_type": "display_data"
    }
   ],
   "source": [
    "my_question = \"\"\"\n",
    "백제 영웅인 강감찬 장군 에 대해서 파악해줘\n",
    "\"\"\"\n",
    "response = llm_chain.run(question=my_question)\n",
    "response"
   ]
  },
  {
   "cell_type": "code",
   "execution_count": null,
   "metadata": {},
   "outputs": [
    {
     "name": "stdout",
     "output_type": "stream",
     "text": [
      "ai_model >  gpt-4o\n",
      "강감찬 장군은 백제 영웅이 아니고 고려 시대의 장군이여. 백제 시절이랑은 시대가 다르제.\n",
      "강감찬 장군은 고려 때 거란족 침입을 막아낸 유명한 장군이여. 특히 귀주대첩에서 큰 승리를\n",
      "거둬서 나라를 지켰제. 백제 영웅을 찾는다면, 예를 들어 계백 장군 같은 분이 있제.\n"
     ]
    }
   ],
   "source": [
    "# textwrap.TextWrapper 객체 생성 >> 텍스트를 지정된 너비에 맞게 포맷\n",
    "wrapper = textwrap.TextWrapper(width=50, # 각 줄을 50자로 제한\n",
    "                               break_long_words=False,\n",
    "                               replace_whitespace=False)\n",
    "\n",
    "# 텍스트 즐바꿈\n",
    "# response : 줄바꿈할 원본 텍스\n",
    "# wrapper.wrap() : response 텍스트를 wrapper 설정에 따라 줄 바꿈하여 리스트 형태로 반환\n",
    "word_list = wrapper.wrap(text=response)\n",
    "\n",
    "print('ai_model > ', ai_model)\n",
    "\n",
    "for element in word_list:\n",
    "    print(element)"
   ]
  }
 ],
 "metadata": {
  "language_info": {
   "name": "python"
  }
 },
 "nbformat": 4,
 "nbformat_minor": 2
}
